{
 "cells": [
  {
   "cell_type": "code",
   "execution_count": 2,
   "id": "661df37d",
   "metadata": {},
   "outputs": [
    {
     "name": "stdout",
     "output_type": "stream",
     "text": [
      "[2 4 5 6 7 9]\n"
     ]
    }
   ],
   "source": [
    "import numpy as np\n",
    "arr=np.array([9,5,2,7,6,4])\n",
    "print(np.sort(arr))\n"
   ]
  },
  {
   "cell_type": "code",
   "execution_count": 2,
   "id": "be47b666",
   "metadata": {},
   "outputs": [
    {
     "name": "stdout",
     "output_type": "stream",
     "text": [
      "[2 4 5 6 7 9]\n"
     ]
    }
   ],
   "source": [
    "import numpy as np\n",
    "arr=np.array([9,5,2,7,6,4])\n",
    "print(np.sort(arr))\n"
   ]
  },
  {
   "cell_type": "code",
   "execution_count": 2,
   "id": "f9ac74c9",
   "metadata": {},
   "outputs": [
    {
     "name": "stdout",
     "output_type": "stream",
     "text": [
      "[2 4 5 6 7 9]\n"
     ]
    }
   ],
   "source": [
    "import numpy as np\n",
    "arr=np.array([9,5,2,7,6,4])\n",
    "print(np.sort(arr))\n"
   ]
  },
  {
   "cell_type": "code",
   "execution_count": 2,
   "id": "37901a11",
   "metadata": {},
   "outputs": [
    {
     "name": "stdout",
     "output_type": "stream",
     "text": [
      "[2 4 5 6 7 9]\n"
     ]
    }
   ],
   "source": [
    "import numpy as np\n",
    "arr=np.array([9,5,2,7,6,4])\n",
    "print(np.sort(arr))\n"
   ]
  },
  {
   "cell_type": "code",
   "execution_count": 2,
   "id": "905d707c",
   "metadata": {},
   "outputs": [
    {
     "name": "stdout",
     "output_type": "stream",
     "text": [
      "[2 4 5 6 7 9]\n"
     ]
    }
   ],
   "source": [
    "import numpy as np\n",
    "arr=np.array([9,5,2,7,6,4])\n",
    "print(np.sort(arr))\n"
   ]
  },
  {
   "cell_type": "code",
   "execution_count": 2,
   "id": "91a39958",
   "metadata": {},
   "outputs": [
    {
     "name": "stdout",
     "output_type": "stream",
     "text": [
      "[2 4 5 6 7 9]\n"
     ]
    }
   ],
   "source": [
    "import numpy as np\n",
    "arr=np.array([9,5,2,7,6,4])\n",
    "print(np.sort(arr))\n"
   ]
  },
  {
   "cell_type": "code",
   "execution_count": 2,
   "id": "99856a47",
   "metadata": {},
   "outputs": [
    {
     "name": "stdout",
     "output_type": "stream",
     "text": [
      "[2 4 5 6 7 9]\n"
     ]
    }
   ],
   "source": [
    "import numpy as np\n",
    "arr=np.array([9,5,2,7,6,4])\n",
    "print(np.sort(arr))\n"
   ]
  },
  {
   "cell_type": "code",
   "execution_count": 2,
   "id": "99a02824",
   "metadata": {},
   "outputs": [
    {
     "name": "stdout",
     "output_type": "stream",
     "text": [
      "[2 4 5 6 7 9]\n"
     ]
    }
   ],
   "source": [
    "import numpy as np\n",
    "arr=np.array([9,5,2,7,6,4])\n",
    "print(np.sort(arr))\n"
   ]
  },
  {
   "cell_type": "code",
   "execution_count": 2,
   "id": "2d96aa65",
   "metadata": {},
   "outputs": [
    {
     "name": "stdout",
     "output_type": "stream",
     "text": [
      "[2 4 5 6 7 9]\n"
     ]
    }
   ],
   "source": [
    "import numpy as np\n",
    "arr=np.array([9,5,2,7,6,4])\n",
    "print(np.sort(arr))\n"
   ]
  },
  {
   "cell_type": "code",
   "execution_count": 2,
   "id": "0006e4fe",
   "metadata": {},
   "outputs": [
    {
     "name": "stdout",
     "output_type": "stream",
     "text": [
      "[2 4 5 6 7 9]\n"
     ]
    }
   ],
   "source": [
    "import numpy as np\n",
    "arr=np.array([9,5,2,7,6,4])\n",
    "print(np.sort(arr))\n"
   ]
  },
  {
   "cell_type": "code",
   "execution_count": 2,
   "id": "cc8dd1c4",
   "metadata": {},
   "outputs": [
    {
     "name": "stdout",
     "output_type": "stream",
     "text": [
      "[2 4 5 6 7 9]\n"
     ]
    }
   ],
   "source": [
    "import numpy as np\n",
    "arr=np.array([9,5,2,7,6,4])\n",
    "print(np.sort(arr))\n"
   ]
  },
  {
   "cell_type": "code",
   "execution_count": 3,
   "id": "d8d3a991",
   "metadata": {},
   "outputs": [
    {
     "name": "stdout",
     "output_type": "stream",
     "text": [
      "[[4 7 9]\n",
      " [1 4 9]]\n"
     ]
    }
   ],
   "source": [
    "import numpy as np\n",
    "arr=np.array([[7,4,9],[9,1,4]])\n",
    "print(np.sort(arr))\n"
   ]
  },
  {
   "cell_type": "code",
   "execution_count": 15,
   "id": "aa12b227",
   "metadata": {},
   "outputs": [
    {
     "name": "stdout",
     "output_type": "stream",
     "text": [
      "[False, True, True, False]\n",
      "[78 68]\n"
     ]
    }
   ],
   "source": [
    "arr=np.array([31,78,68,88])\n",
    "x=[False, True, True, False]\n",
    "newarr=arr[x]\n",
    "print(x)\n",
    "print(newarr)"
   ]
  },
  {
   "cell_type": "code",
   "execution_count": 16,
   "id": "1fcd388e",
   "metadata": {},
   "outputs": [
    {
     "name": "stdout",
     "output_type": "stream",
     "text": [
      "[False  True False  True]\n",
      "[78 88]\n"
     ]
    }
   ],
   "source": [
    "arr=np.array([31,78,68,88])\n",
    "filter_arr=arr>70\n",
    "newarr=arr[filter_arr]\n",
    "print(filter_arr)\n",
    "print(newarr)"
   ]
  },
  {
   "cell_type": "code",
   "execution_count": 6,
   "id": "9df12941",
   "metadata": {},
   "outputs": [
    {
     "name": "stdout",
     "output_type": "stream",
     "text": [
      "[20 40 50 70 10]\n",
      "[6 2 9 7 1]\n",
      "[26 42 59 77 11]\n",
      "[14 38 41 63  9]\n",
      "[120  80 450 490  10]\n",
      "[ 3.33333333 20.          5.55555556 10.         10.        ]\n"
     ]
    }
   ],
   "source": [
    "import numpy as np\n",
    "arr1=[20,40,50,70,10]\n",
    "arr2=[6,2,9,7,1]\n",
    "a=np.array(arr1)\n",
    "b=np.array(arr2)\n",
    "print(a)\n",
    "print(b)\n",
    "print(a+b)\n",
    "print(a-b)\n",
    "print(a*b)\n",
    "print(a/b)"
   ]
  },
  {
   "cell_type": "code",
   "execution_count": 7,
   "id": "32bb1fdc",
   "metadata": {},
   "outputs": [
    {
     "name": "stdout",
     "output_type": "stream",
     "text": [
      "1150\n",
      "\n",
      " Scalar Value :\n",
      " 3\n",
      "\n",
      " Result :\n",
      " [ 60 120 150 210  30]\n"
     ]
    }
   ],
   "source": [
    "import numpy as np\n",
    "arr1=[20,40,50,70,10]\n",
    "arr2=[6,2,9,7,1]\n",
    "a=np.array(arr1)\n",
    "b=np.array(arr2)\n",
    "print(a.dot(b))\n",
    "sclr=3\n",
    "print(\"\\n Scalar Value :\\n\",sclr)\n",
    "print(\"\\n Result :\\n\", a*sclr)"
   ]
  },
  {
   "cell_type": "code",
   "execution_count": 9,
   "id": "99f5e936",
   "metadata": {},
   "outputs": [
    {
     "name": "stdout",
     "output_type": "stream",
     "text": [
      "[[1 6]\n",
      " [0 4]]\n"
     ]
    }
   ],
   "source": [
    "import numpy as np\n",
    "a=np.array([[10,20],[30,40]])\n",
    "b=np.array([[3,7],[5,9]])\n",
    "print(a%b)"
   ]
  },
  {
   "cell_type": "code",
   "execution_count": 14,
   "id": "e3cb0be9",
   "metadata": {},
   "outputs": [],
   "source": [
    "def my_function(x,y):\n",
    "    if x>y:\n",
    "        return x-y\n",
    "    else:\n",
    "        return x+y\n",
    "    arr1=[10,7,2]\n",
    "    arr2=[6,5,3]\n",
    "    vect_func=np.vectorize(my_func)\n",
    "    print(\"Array1 :\",arr1)\n",
    "    print(\"Array2 :\",arr2)\n",
    "    print(\"Result :\",vect_func(arr1,arr2))\n"
   ]
  },
  {
   "cell_type": "markdown",
   "id": "c521b77b",
   "metadata": {},
   "source": []
  }
 ],
 "metadata": {
  "kernelspec": {
   "display_name": "Python 3 (ipykernel)",
   "language": "python",
   "name": "python3"
  },
  "language_info": {
   "codemirror_mode": {
    "name": "ipython",
    "version": 3
   },
   "file_extension": ".py",
   "mimetype": "text/x-python",
   "name": "python",
   "nbconvert_exporter": "python",
   "pygments_lexer": "ipython3",
   "version": "3.10.9"
  }
 },
 "nbformat": 4,
 "nbformat_minor": 5
}
