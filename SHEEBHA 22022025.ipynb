{
 "cells": [
  {
   "cell_type": "code",
   "execution_count": 6,
   "id": "2878634a",
   "metadata": {},
   "outputs": [
    {
     "name": "stdout",
     "output_type": "stream",
     "text": [
      "       a  b  c\n",
      "One    1  2  3\n",
      "Two    4  5  6\n",
      "Three  7  8  9\n"
     ]
    }
   ],
   "source": [
    "import pandas as pd\n",
    "df=pd.DataFrame([[1,2,3],[4,5,6],[7,8,9]], index =['One','Two','Three'],columns=['a','b','c'])\n",
    "print(df)\n"
   ]
  },
  {
   "cell_type": "code",
   "execution_count": 16,
   "id": "abe5ded2",
   "metadata": {},
   "outputs": [],
   "source": [
    "df.to_excel(\"E:\\Kris.xlsx\")\n",
    "\n"
   ]
  },
  {
   "cell_type": "code",
   "execution_count": 21,
   "id": "e5f6531e",
   "metadata": {},
   "outputs": [],
   "source": [
    "df=pd.DataFrame([[10,20,30],[40,50,60],[70,80,90]],index=['Four','Five','Six'],columns=['x','y','z'])\n",
    "df.to_excel(\"E:\\Kris.xlsx\",sheet_name=\"Sheet.1\")"
   ]
  },
  {
   "cell_type": "code",
   "execution_count": 23,
   "id": "004f77a5",
   "metadata": {},
   "outputs": [],
   "source": [
    "df=pd.DataFrame([[6,7],[1,2]],index=['a','b'],columns=['x','y'])\n",
    "df.to_excel(\"E:\\Roxanne.xlsx\",sheet_name=\"Sheet.1\")"
   ]
  },
  {
   "cell_type": "code",
   "execution_count": 30,
   "id": "373982aa",
   "metadata": {},
   "outputs": [],
   "source": [
    "x=pd.read_excel(\"E:Kris.xlsx\")\n",
    "y=pd.read_excel(\"E:Roxanne.xlsx\")\n",
    "z=pd.concat([x,y])\n",
    "z.to_excel(\"E:SHEEBE.xlsx\")"
   ]
  },
  {
   "cell_type": "code",
   "execution_count": null,
   "id": "f3b2fc6a",
   "metadata": {},
   "outputs": [],
   "source": []
  },
  {
   "cell_type": "code",
   "execution_count": null,
   "id": "eff6ef03",
   "metadata": {},
   "outputs": [],
   "source": []
  },
  {
   "cell_type": "code",
   "execution_count": null,
   "id": "bcb07867",
   "metadata": {},
   "outputs": [],
   "source": []
  },
  {
   "cell_type": "code",
   "execution_count": null,
   "id": "26269f43",
   "metadata": {},
   "outputs": [],
   "source": []
  }
 ],
 "metadata": {
  "kernelspec": {
   "display_name": "Python 3 (ipykernel)",
   "language": "python",
   "name": "python3"
  },
  "language_info": {
   "codemirror_mode": {
    "name": "ipython",
    "version": 3
   },
   "file_extension": ".py",
   "mimetype": "text/x-python",
   "name": "python",
   "nbconvert_exporter": "python",
   "pygments_lexer": "ipython3",
   "version": "3.10.9"
  }
 },
 "nbformat": 4,
 "nbformat_minor": 5
}
