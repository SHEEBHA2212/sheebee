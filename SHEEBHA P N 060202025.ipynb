{
 "cells": [
  {
   "cell_type": "code",
   "execution_count": 13,
   "id": "bee77d99",
   "metadata": {},
   "outputs": [
    {
     "name": "stdout",
     "output_type": "stream",
     "text": [
      "Empty DataFrame\n",
      "Columns: []\n",
      "Index: []\n"
     ]
    }
   ],
   "source": [
    "#EXPERIMENT NUMBER 2: GETTING SCATTERED WITH PANDAS, PANDAS, DATA FRAME FUNCTOINS\n",
    "\n",
    "import pandas as pd\n",
    "df=pd.DataFrame()\n",
    "print(df)\n"
   ]
  },
  {
   "cell_type": "code",
   "execution_count": 12,
   "id": "dbdab536",
   "metadata": {},
   "outputs": [
    {
     "name": "stdout",
     "output_type": "stream",
     "text": [
      "\n",
      " Series to Data Frame: \n",
      "\n",
      "       Emp  ID\n",
      "0  Sheebha  80\n",
      "1  Shivani  90\n",
      "2    Kavya  28\n",
      "3  Karunya  57\n",
      "4   Raziel  49\n",
      "5  Roxanne  99\n"
     ]
    }
   ],
   "source": [
    "import pandas as pd\n",
    "emp=pd.Series(['Sheebha','Shivani','Kavya','Karunya','Raziel','Roxanne'])\n",
    "id=pd.Series([80,90,28,57,49,99])\n",
    "frame={'Emp':emp,'ID':id}\n",
    "result=pd.DataFrame(frame)\n",
    "print(\"\\n Series to Data Frame: \\n\")\n",
    "print(result)"
   ]
  },
  {
   "cell_type": "code",
   "execution_count": 15,
   "id": "75fa35b5",
   "metadata": {},
   "outputs": [
    {
     "name": "stdout",
     "output_type": "stream",
     "text": [
      "\n",
      " Extracting One Column : \n",
      "\n",
      "0    Sheebha\n",
      "1    Shivani\n",
      "2      Kavya\n",
      "3    Karunya\n",
      "4     Raziel\n",
      "5    Roxanne\n",
      "Name: Emp, dtype: object\n"
     ]
    }
   ],
   "source": [
    "import pandas as pd\n",
    "print(\"\\n Extracting One Column : \\n\")\n",
    "print(result['Emp'])"
   ]
  },
  {
   "cell_type": "code",
   "execution_count": 18,
   "id": "707536ef",
   "metadata": {},
   "outputs": [
    {
     "name": "stdout",
     "output_type": "stream",
     "text": [
      "\n",
      " Adding New Column : \n",
      "\n",
      "       Emp  ID  Age\n",
      "0  Sheebha  80   29\n",
      "1  Shivani  90   30\n",
      "2    Kavya  28   31\n",
      "3  Karunya  56   33\n",
      "4   Raziel  89   28\n",
      "5  Roxanne  97   24\n"
     ]
    }
   ],
   "source": [
    "print('\\n Adding New Column : \\n')\n",
    "result['ID']=pd.Series([80,90,28,56,89,97])\n",
    "result['Age']=pd.Series([29,30,31,33,28,24])\n",
    "print(result)"
   ]
  },
  {
   "cell_type": "code",
   "execution_count": 19,
   "id": "aca9ff72",
   "metadata": {},
   "outputs": [
    {
     "name": "stdout",
     "output_type": "stream",
     "text": [
      "\n",
      " Deleting New Column: \n",
      "\n",
      "       Emp  ID\n",
      "0  Sheebha  80\n",
      "1  Shivani  90\n",
      "2    Kavya  28\n",
      "3  Karunya  56\n",
      "4   Raziel  89\n",
      "5  Roxanne  97\n"
     ]
    }
   ],
   "source": [
    "print('\\n Deleting New Column: \\n')\n",
    "del result['Age']\n",
    "print(result)"
   ]
  },
  {
   "cell_type": "code",
   "execution_count": 20,
   "id": "407b4a28",
   "metadata": {},
   "outputs": [
    {
     "name": "stdout",
     "output_type": "stream",
     "text": [
      "\n",
      " Extracting The Second Row: \n",
      "\n",
      "Emp    Shivani\n",
      "ID          90\n",
      "Name: 1, dtype: object\n"
     ]
    }
   ],
   "source": [
    "print(\"\\n Extracting The Second Row: \\n\")\n",
    "print(result.loc[1])"
   ]
  },
  {
   "cell_type": "code",
   "execution_count": 21,
   "id": "142857dc",
   "metadata": {},
   "outputs": [
    {
     "name": "stdout",
     "output_type": "stream",
     "text": [
      "\n",
      " Slicing rows :\n",
      "        Emp  ID\n",
      "1  Shivani  90\n",
      "2    Kavya  28\n",
      "3  Karunya  56\n"
     ]
    }
   ],
   "source": [
    "print(\"\\n Slicing rows :\\n\", result[1:4])"
   ]
  },
  {
   "cell_type": "code",
   "execution_count": 27,
   "id": "76a6ed4d",
   "metadata": {},
   "outputs": [
    {
     "name": "stdout",
     "output_type": "stream",
     "text": [
      "\n",
      " Adding new row: \n",
      " \n",
      "       Emp   ID\n",
      "0  Sheebha   80\n",
      "1  Shivani   90\n",
      "2    Kavya   28\n",
      "3  Karunya   56\n",
      "4   Raziel   89\n",
      "5  Roxanne   97\n",
      "0    Vicky  100\n",
      "1   Rashid  109\n"
     ]
    }
   ],
   "source": [
    "d2=pd.DataFrame([['Vicky',100],['Rashid',109]], columns=['Emp','ID'])\n",
    "print(\"\\n Adding new row: \\n \")\n",
    "print(pd.concat([result,d2]))\n"
   ]
  },
  {
   "cell_type": "code",
   "execution_count": 28,
   "id": "aa4f7f3b",
   "metadata": {},
   "outputs": [
    {
     "name": "stdout",
     "output_type": "stream",
     "text": [
      "\n",
      " Deleting Particular row:\n",
      "        Emp  ID\n",
      "0  Sheebha  80\n",
      "1  Shivani  90\n",
      "3  Karunya  56\n",
      "4   Raziel  89\n",
      "5  Roxanne  97\n"
     ]
    }
   ],
   "source": [
    "print(\"\\n Deleting Particular row:\\n\", result.drop(2))"
   ]
  },
  {
   "cell_type": "code",
   "execution_count": null,
   "id": "0a6554f9",
   "metadata": {},
   "outputs": [],
   "source": [
    "  "
   ]
  }
 ],
 "metadata": {
  "kernelspec": {
   "display_name": "Python 3 (ipykernel)",
   "language": "python",
   "name": "python3"
  },
  "language_info": {
   "codemirror_mode": {
    "name": "ipython",
    "version": 3
   },
   "file_extension": ".py",
   "mimetype": "text/x-python",
   "name": "python",
   "nbconvert_exporter": "python",
   "pygments_lexer": "ipython3",
   "version": "3.10.9"
  }
 },
 "nbformat": 4,
 "nbformat_minor": 5
}
