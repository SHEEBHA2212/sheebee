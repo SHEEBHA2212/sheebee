{
 "cells": [
  {
   "cell_type": "code",
   "execution_count": 11,
   "id": "c5d95c48",
   "metadata": {},
   "outputs": [
    {
     "name": "stdout",
     "output_type": "stream",
     "text": [
      "Ram\n",
      "\n",
      "Raj\n",
      "\n",
      "Rahul\n",
      "\n",
      "Ram\n",
      "Raj\n",
      "Rahul\n",
      "Yuva \n",
      "Sri \n",
      "\n"
     ]
    }
   ],
   "source": [
    "f=open(\"E:/data1.txt\",\"w\")\n",
    "f.write(\"Ram\\n\")\n",
    "f.write(\"Raj\\n\")\n",
    "f.write(\"Rahul\\n\")\n",
    "f.close\n",
    "a=open(\"E:/data1.txt\",\"r\")\n",
    "print(a.readline())\n",
    "print(a.readline())\n",
    "print(a.readline())\n",
    "a.close()\n",
    "\n",
    "b=open(\"E:/data1.txt\",\"a\")\n",
    "b.write(\"Yuva \\n\")\n",
    "b.write(\"Sri \\n\")\n",
    "b.close\n",
    "\n",
    "\n",
    "c=open(\"E:/data1.txt\",\"r\")\n",
    "print(c.read())\n",
    "c.close()"
   ]
  },
  {
   "cell_type": "code",
   "execution_count": 13,
   "id": "40f89049",
   "metadata": {
    "scrolled": false
   },
   "outputs": [
    {
     "name": "stdout",
     "output_type": "stream",
     "text": [
      "['Ram\\n', 'Raj\\n', 'Rahul\\n', 'Yuva \\n', 'Sri \\n']\n"
     ]
    }
   ],
   "source": [
    "with open(\"E:/data1.txt\",\"r\") as file:\n",
    "    line=file.readlines()\n",
    "    print(line)"
   ]
  },
  {
   "cell_type": "code",
   "execution_count": 17,
   "id": "f5d59ca5",
   "metadata": {},
   "outputs": [
    {
     "name": "stdout",
     "output_type": "stream",
     "text": [
      "Original Dataframe with Nan\n",
      "         one       two     three\n",
      "a -1.311415  1.913703 -0.603846\n",
      "b       NaN       NaN       NaN\n",
      "c  0.745139  0.483717  1.787177\n",
      "d       NaN       NaN       NaN\n",
      "e -1.911461 -1.323290 -0.630479\n",
      "f -2.096722  0.227587 -1.336385\n",
      "/n\n",
      "Dropped Dataframe         one       two     three\n",
      "a -1.311415  1.913703 -0.603846\n",
      "c  0.745139  0.483717  1.787177\n",
      "e -1.911461 -1.323290 -0.630479\n",
      "f -2.096722  0.227587 -1.336385\n",
      "/n\n"
     ]
    }
   ],
   "source": [
    "import pandas as pd\n",
    "import numpy as np\n",
    "df=pd.DataFrame(np.random.randn(4,3),index=['a','c','e','f'],columns=['one','two','three'])\n",
    "df=df.reindex(['a','b','c','d','e','f'])\n",
    "print(\"Original Dataframe with Nan\\n\",df)\n",
    "print(\"/n\")\n",
    "print(\"Dropped Dataframe\",df.dropna())\n",
    "print(\"/n\")"
   ]
  },
  {
   "cell_type": "code",
   "execution_count": 4,
   "id": "07179696",
   "metadata": {},
   "outputs": [
    {
     "name": "stdout",
     "output_type": "stream",
     "text": [
      "Original DataFrame:\n",
      "         one       two     three\n",
      "a -0.888177 -0.157267  1.620481\n",
      "b       NaN       NaN       NaN\n",
      "c  0.836356  0.504872 -1.500538\n",
      "\n",
      "\n",
      "NaN replaced with 'O':\n",
      "\n",
      "        one       two     three\n",
      "a -0.888177 -0.157267  1.620481\n",
      "b  0.000000  0.000000  0.000000\n",
      "c  0.836356  0.504872 -1.500538\n"
     ]
    }
   ],
   "source": [
    "import pandas as pd\n",
    "import numpy as np\n",
    "df=pd.DataFrame(np.random.randn(4,3),index=['a','c','d','f'],columns=['one','two','three'])\n",
    "df=df.reindex(['a','b','c'])\n",
    "print(\"Original DataFrame:\\n\",df)\n",
    "print(\"\\n\")\n",
    "print(\"NaN replaced with 'O':\\n\")\n",
    "print(df.fillna(0))\n",
    "    "
   ]
  },
  {
   "cell_type": "code",
   "execution_count": 5,
   "id": "095d179c",
   "metadata": {},
   "outputs": [
    {
     "name": "stdout",
     "output_type": "stream",
     "text": [
      "Original DataFrame:\n",
      "    one  two\n",
      "0   10   60\n",
      "1   20   70\n",
      "2   30   80\n",
      "3   40   90\n",
      "4   50  100\n",
      "\n",
      " DataFrame with replaced values:\n",
      "\n",
      "   one  two\n",
      "0    5   60\n",
      "1   20   70\n",
      "2    3   80\n",
      "3   40   90\n",
      "4   50  100\n"
     ]
    }
   ],
   "source": [
    "df=pd.DataFrame({'one':[10,20,30,40,50],'two':[60,70,80,90,100]})\n",
    "print(\"Original DataFrame:\\n\",df)\n",
    "print(\"\\n DataFrame with replaced values:\\n\")\n",
    "print(df.replace({10:5,30:3}))"
   ]
  },
  {
   "cell_type": "code",
   "execution_count": 6,
   "id": "d488b3f6",
   "metadata": {},
   "outputs": [
    {
     "name": "stdout",
     "output_type": "stream",
     "text": [
      "Original DataFrame:\n",
      "         one       two     three\n",
      "a -0.746085  0.974037 -0.126157\n",
      "b       NaN       NaN       NaN\n",
      "c -0.333416 -1.224800 -0.514848\n",
      "d  0.193016 -0.593175 -0.989300\n",
      "e       NaN       NaN       NaN\n",
      "f -0.374838 -2.185736 -0.950909\n",
      "\n",
      " NaN-with true fill:\n",
      "\n",
      "a    False\n",
      "b     True\n",
      "c    False\n",
      "d    False\n",
      "e     True\n",
      "f    False\n",
      "Name: one, dtype: bool\n"
     ]
    }
   ],
   "source": [
    "df=pd.DataFrame(np.random.randn(4,3),index=['a','c','d','f'],columns=['one','two','three']) \n",
    "df=df.reindex(['a','b','c','d','e','f'])\n",
    "print(\"Original DataFrame:\\n\",df)\n",
    "print(\"\\n NaN-with true fill:\\n\")\n",
    "print(df['one'].isnull())"
   ]
  },
  {
   "cell_type": "code",
   "execution_count": 7,
   "id": "e6fb8c10",
   "metadata": {},
   "outputs": [
    {
     "name": "stdout",
     "output_type": "stream",
     "text": [
      "Original DataFrame:\n",
      "         one       two     three\n",
      "a  0.496005 -0.477019 -0.114676\n",
      "b       NaN       NaN       NaN\n",
      "c -1.337746 -1.161775 -0.588863\n",
      "d  0.908709  1.725884 -1.313025\n",
      "e       NaN       NaN       NaN\n",
      "f -0.142651 -0.922914 -0.711438\n",
      "\n",
      " NaN-with Background values:\n",
      "\n",
      "        one       two     three\n",
      "a  0.496005 -0.477019 -0.114676\n",
      "b -1.337746 -1.161775 -0.588863\n",
      "c -1.337746 -1.161775 -0.588863\n",
      "d  0.908709  1.725884 -1.313025\n",
      "e -0.142651 -0.922914 -0.711438\n",
      "f -0.142651 -0.922914 -0.711438\n",
      "<bound method DataFrame.ffill of         one       two     three\n",
      "a  0.496005 -0.477019 -0.114676\n",
      "b       NaN       NaN       NaN\n",
      "c -1.337746 -1.161775 -0.588863\n",
      "d  0.908709  1.725884 -1.313025\n",
      "e       NaN       NaN       NaN\n",
      "f -0.142651 -0.922914 -0.711438>\n",
      "<bound method DataFrame.bfill of         one       two     three\n",
      "a  0.496005 -0.477019 -0.114676\n",
      "b       NaN       NaN       NaN\n",
      "c -1.337746 -1.161775 -0.588863\n",
      "d  0.908709  1.725884 -1.313025\n",
      "e       NaN       NaN       NaN\n",
      "f -0.142651 -0.922914 -0.711438>\n"
     ]
    }
   ],
   "source": [
    "df=pd.DataFrame(np.random.randn(4,3),index=['a','c','d','f'],columns=['one','two','three']) \n",
    "df=df.reindex(['a','b','c','d','e','f'])\n",
    "print(\"Original DataFrame:\\n\",df)\n",
    "print(\"\\n NaN-with Background values:\\n\")\n",
    "print(df.fillna(method='bfill'))\n",
    "print(df.ffill)\n",
    "print(df.bfill)"
   ]
  },
  {
   "cell_type": "code",
   "execution_count": null,
   "id": "098b6bbe",
   "metadata": {},
   "outputs": [],
   "source": []
  },
  {
   "cell_type": "code",
   "execution_count": null,
   "id": "ecfb5c72",
   "metadata": {},
   "outputs": [],
   "source": []
  }
 ],
 "metadata": {
  "kernelspec": {
   "display_name": "Python 3 (ipykernel)",
   "language": "python",
   "name": "python3"
  },
  "language_info": {
   "codemirror_mode": {
    "name": "ipython",
    "version": 3
   },
   "file_extension": ".py",
   "mimetype": "text/x-python",
   "name": "python",
   "nbconvert_exporter": "python",
   "pygments_lexer": "ipython3",
   "version": "3.10.9"
  }
 },
 "nbformat": 4,
 "nbformat_minor": 5
}
