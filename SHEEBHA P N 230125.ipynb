{
 "cells": [
  {
   "cell_type": "code",
   "execution_count": 3,
   "id": "5bd24c3c",
   "metadata": {},
   "outputs": [
    {
     "name": "stdout",
     "output_type": "stream",
     "text": [
      "[[10 20 30]\n",
      " [50 80 70]]\n",
      "Array Created:  [[10 20 30]\n",
      " [50 80 70]]\n"
     ]
    }
   ],
   "source": [
    "import numpy as np\n",
    "a=np.array([[10,20,30],[50,80,70]])\n",
    "print(a)\n",
    "print(\"Array Created: \", a)"
   ]
  },
  {
   "cell_type": "code",
   "execution_count": 4,
   "id": "39f179bb",
   "metadata": {},
   "outputs": [
    {
     "name": "stdout",
     "output_type": "stream",
     "text": [
      "One Dimensional Array:  [10 15 20 25 30]\n"
     ]
    }
   ],
   "source": [
    "import numpy as np\n",
    "b=np.array([10,15,20,25,30])\n",
    "print('One Dimensional Array: ',b)"
   ]
  },
  {
   "cell_type": "code",
   "execution_count": 5,
   "id": "0ab566f7",
   "metadata": {},
   "outputs": [
    {
     "name": "stdout",
     "output_type": "stream",
     "text": [
      "\n",
      " Array with all zeros: \n",
      " [[0. 0. 0. 0. 0.]\n",
      " [0. 0. 0. 0. 0.]\n",
      " [0. 0. 0. 0. 0.]]\n"
     ]
    }
   ],
   "source": [
    "import numpy as np\n",
    "c=np.zeros((3,5))\n",
    "print(\"\\n Array with all zeros: \\n\",c)"
   ]
  },
  {
   "cell_type": "code",
   "execution_count": 6,
   "id": "75750e47",
   "metadata": {},
   "outputs": [
    {
     "name": "stdout",
     "output_type": "stream",
     "text": [
      "\n",
      " Random values: \n",
      " [[0.05263474 0.0955177  0.12447859]\n",
      " [0.74060231 0.91698516 0.94066361]\n",
      " [0.59621076 0.07178752 0.81241859]]\n"
     ]
    }
   ],
   "source": [
    "import numpy as np\n",
    "d=np.random.random((3,3))\n",
    "print(\"\\n Random values: \\n\",d)"
   ]
  },
  {
   "cell_type": "code",
   "execution_count": 7,
   "id": "c9b3d415",
   "metadata": {},
   "outputs": [
    {
     "name": "stdout",
     "output_type": "stream",
     "text": [
      "\n",
      " A sequence of array with step 5: \n",
      " [ 0  5 10 15 20 25 30 35]\n"
     ]
    }
   ],
   "source": [
    "import numpy as np\n",
    "e=np.arange(0,40,5)\n",
    "print(\"\\n A sequence of array with step 5: \\n\",e)"
   ]
  },
  {
   "cell_type": "code",
   "execution_count": 8,
   "id": "85f5e58e",
   "metadata": {},
   "outputs": [
    {
     "name": "stdout",
     "output_type": "stream",
     "text": [
      "[[7 7 7 7]\n",
      " [7 7 7 7]\n",
      " [7 7 7 7]]\n"
     ]
    }
   ],
   "source": [
    "import numpy as np\n",
    "f=np.full((3,4),(7))\n",
    "print(f)"
   ]
  },
  {
   "cell_type": "code",
   "execution_count": 10,
   "id": "a45e4529",
   "metadata": {},
   "outputs": [
    {
     "name": "stdout",
     "output_type": "stream",
     "text": [
      "\n",
      " Original Array: \n",
      " [[22 12  5 19]\n",
      " [22  7 20 23]\n",
      " [ 6  8  5 16]]\n",
      "\n",
      " Reshaped Array: \n",
      " [[22 12  5]\n",
      " [19 22  7]\n",
      " [20 23  6]\n",
      " [ 8  5 16]]\n"
     ]
    }
   ],
   "source": [
    "import numpy as np\n",
    "kl=np.array([[22,12,5,19],[22,7,20,23],[6,8,5,16]])\n",
    "klj=kl.reshape(4,3)\n",
    "print(\"\\n Original Array: \\n\",kl)\n",
    "print(\"\\n Reshaped Array: \\n\",klj)"
   ]
  },
  {
   "cell_type": "code",
   "execution_count": 11,
   "id": "f6969235",
   "metadata": {},
   "outputs": [
    {
     "name": "stdout",
     "output_type": "stream",
     "text": [
      "\n",
      " Original Array: \n",
      " [[22 12  5 19]\n",
      " [22  7 20 23]\n",
      " [ 6  8  5 16]]\n",
      "\n",
      " Flattened Array: \n",
      " [22 12  5 19 22  7 20 23  6  8  5 16]\n"
     ]
    }
   ],
   "source": [
    "import numpy as np\n",
    "kl=np.array([[22,12,5,19],[22,7,20,23],[6,8,5,16]])\n",
    "fl=kl.flatten()\n",
    "print(\"\\n Original Array: \\n\",kl)\n",
    "print(\"\\n Flattened Array: \\n\",fl)"
   ]
  },
  {
   "cell_type": "code",
   "execution_count": 12,
   "id": "c9572ade",
   "metadata": {},
   "outputs": [
    {
     "name": "stdout",
     "output_type": "stream",
     "text": [
      "\n",
      " No. of dimensions:  2\n"
     ]
    }
   ],
   "source": [
    "import numpy as np\n",
    "kl=np.array([[22,12,5,19],[22,7,20,23],[6,8,5,16]])\n",
    "print(\"\\n No. of dimensions: \",kl.ndim)"
   ]
  },
  {
   "cell_type": "code",
   "execution_count": 14,
   "id": "861fa2d8",
   "metadata": {},
   "outputs": [
    {
     "name": "stdout",
     "output_type": "stream",
     "text": [
      "\n",
      " Shape of the Array: \n",
      " (3, 4)\n"
     ]
    }
   ],
   "source": [
    "import numpy as np\n",
    "kl=np.array([[22,12,5,19],[22,7,20,23],[6,8,5,16]])\n",
    "print(\"\\n Shape of the Array: \\n\",kl.shape)"
   ]
  },
  {
   "cell_type": "code",
   "execution_count": 15,
   "id": "4e7867ea",
   "metadata": {},
   "outputs": [
    {
     "name": "stdout",
     "output_type": "stream",
     "text": [
      "\n",
      " Type of the Element in the Array: \n",
      " int32\n"
     ]
    }
   ],
   "source": [
    "import numpy as np\n",
    "kl=np.array([[22,12,5,19],[22,7,20,23],[6,8,5,16]])\n",
    "print(\"\\n Type of the Element in the Array: \\n\",kl.dtype)"
   ]
  },
  {
   "cell_type": "code",
   "execution_count": 16,
   "id": "09394013",
   "metadata": {},
   "outputs": [
    {
     "name": "stdout",
     "output_type": "stream",
     "text": [
      "\n",
      " Converted Array: \n",
      " [[22. 12.  5. 19.]\n",
      " [22.  7. 20. 23.]\n",
      " [ 6.  8.  5. 16.]]\n",
      "\n",
      " Converted Array Type: \n",
      " float32\n"
     ]
    }
   ],
   "source": [
    "import numpy as np\n",
    "kl=np.array([[22,12,5,19],[22,7,20,23],[6,8,5,16]])\n",
    "newtype=kl.astype('f')\n",
    "print(\"\\n Converted Array: \\n\",newtype)\n",
    "print(\"\\n Converted Array Type: \\n\",newtype.dtype)"
   ]
  },
  {
   "cell_type": "code",
   "execution_count": 17,
   "id": "5665675b",
   "metadata": {},
   "outputs": [
    {
     "name": "stdout",
     "output_type": "stream",
     "text": [
      "\n",
      " Size of Array: \n",
      " 3\n"
     ]
    }
   ],
   "source": [
    "import numpy as np\n",
    "kl=np.array([[22,12,5,19],[22,7,20,23],[6,8,5,16]])\n",
    "size=len(kl)\n",
    "print(\"\\n Size of Array: \\n\",size)"
   ]
  },
  {
   "cell_type": "code",
   "execution_count": null,
   "id": "c80799d0",
   "metadata": {},
   "outputs": [],
   "source": []
  }
 ],
 "metadata": {
  "kernelspec": {
   "display_name": "Python 3 (ipykernel)",
   "language": "python",
   "name": "python3"
  },
  "language_info": {
   "codemirror_mode": {
    "name": "ipython",
    "version": 3
   },
   "file_extension": ".py",
   "mimetype": "text/x-python",
   "name": "python",
   "nbconvert_exporter": "python",
   "pygments_lexer": "ipython3",
   "version": "3.10.9"
  }
 },
 "nbformat": 4,
 "nbformat_minor": 5
}
