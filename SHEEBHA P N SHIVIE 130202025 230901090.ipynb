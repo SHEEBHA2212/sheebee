{
 "cells": [
  {
   "cell_type": "code",
   "execution_count": 4,
   "id": "27b2bb1a",
   "metadata": {},
   "outputs": [
    {
     "name": "stdout",
     "output_type": "stream",
     "text": [
      "Dataframe.apply function :\n",
      "\n",
      "\n",
      " Original Dataframe :\n",
      "    S  R\n",
      "0  3  9\n",
      "1  3  9\n",
      "2  3  9\n",
      "3  3  9\n",
      "\n",
      " Squareroot of Dataframe :\n",
      "           S    R\n",
      "0  1.732051  3.0\n",
      "1  1.732051  3.0\n",
      "2  1.732051  3.0\n",
      "3  1.732051  3.0\n",
      "\n",
      " Sum of each Column :\n",
      " S    12\n",
      "R    36\n",
      "dtype: int64\n",
      "\n",
      " Sum of each Row :\n",
      " 0    12\n",
      "1    12\n",
      "2    12\n",
      "3    12\n",
      "dtype: int64\n"
     ]
    }
   ],
   "source": [
    "import pandas as pd\n",
    "import numpy as np\n",
    "print(\"Dataframe.apply function :\\n\")\n",
    "info=pd.DataFrame([[3,9]]*4, columns=['S','R'])\n",
    "print(\"\\n Original Dataframe :\\n\",info)\n",
    "print(\"\\n Squareroot of Dataframe :\\n\",info.apply(np.sqrt))\n",
    "print(\"\\n Sum of each Column :\\n\", info.apply(np.sum,axis=0))\n",
    "print(\"\\n Sum of each Row :\\n\", info.apply(np.sum,axis=1))"
   ]
  },
  {
   "cell_type": "code",
   "execution_count": 5,
   "id": "cf17e2f2",
   "metadata": {},
   "outputs": [
    {
     "name": "stdout",
     "output_type": "stream",
     "text": [
      "\n",
      " Original Dataframes : \n",
      "    X  Y  Z\n",
      "0  2  4  6\n",
      "1  1  3  5\n",
      "2  5  8  7\n",
      "\n",
      " Minimum and Maximum of each Column: \n",
      "\n",
      "     X  Y  Z\n",
      "min  1  3  5\n",
      "max  5  8  7\n"
     ]
    }
   ],
   "source": [
    "info=pd.DataFrame([[2,4,6],[1,3,5],[5,8,7]],columns=['X','Y','Z'])\n",
    "print(\"\\n Original Dataframes : \\n\", info)\n",
    "print(\"\\n Minimum and Maximum of each Column: \\n\")\n",
    "print(info.agg(['min','max']))\n"
   ]
  },
  {
   "cell_type": "code",
   "execution_count": 6,
   "id": "42b79cd3",
   "metadata": {},
   "outputs": [
    {
     "name": "stdout",
     "output_type": "stream",
     "text": [
      "\n",
      " DataFrame.AssignFunction: \n",
      "\n",
      "\n",
      " Original DataFrame :\n",
      "     Emp  ID\n",
      "0   Sai  88\n",
      "1  Ravi  70\n",
      "\n",
      " Adding new Column : \n",
      "     Emp  ID  Age\n",
      "0   Sai  88   20\n",
      "1  Ravi  70   18\n",
      "\n",
      " Adding new Column \n",
      "     Emp  ID  Age   Sex\n",
      "0   Sai  88   20  Male\n",
      "1  Ravi  70   18  Male\n"
     ]
    }
   ],
   "source": [
    "print(\"\\n DataFrame.AssignFunction: \\n\")\n",
    "d2=pd.DataFrame([['Sai',88],['Ravi',70]],columns=['Emp','ID'])\n",
    "print(\"\\n Original DataFrame :\\n\",d2)\n",
    "d2['Age']=[20,18]\n",
    "print(\"\\n Adding new Column : \\n\",d2)\n",
    "d=d2.assign(Sex=['Male','Male'])\n",
    "print(\"\\n Adding new Column \\n\",d)"
   ]
  },
  {
   "cell_type": "code",
   "execution_count": 11,
   "id": "3bbe9b4d",
   "metadata": {},
   "outputs": [
    {
     "name": "stdout",
     "output_type": "stream",
     "text": [
      "\n",
      " DataFrame.SortFunction :\n",
      "\n",
      "       col3      col4\n",
      "3 -0.486908  1.030660\n",
      "2 -0.769962 -0.661482\n",
      "0 -2.302802 -0.493636\n",
      "4 -1.539332  0.775356\n",
      "1  0.600989 -0.350395\n",
      "\n",
      " Sort Index :\n",
      "        col3      col4\n",
      "0 -2.302802 -0.493636\n",
      "1  0.600989 -0.350395\n",
      "2 -0.769962 -0.661482\n",
      "3 -0.486908  1.030660\n",
      "4 -1.539332  0.775356\n",
      "\n",
      " Sort Value :\n",
      "        col3      col4\n",
      "0 -2.302802 -0.493636\n",
      "4 -1.539332  0.775356\n",
      "2 -0.769962 -0.661482\n",
      "3 -0.486908  1.030660\n",
      "1  0.600989 -0.350395\n"
     ]
    }
   ],
   "source": [
    "print(\"\\n DataFrame.SortFunction :\\n\")\n",
    "info=pd.DataFrame(np.random.randn(5,2),index=[3,2,0,4,1],columns=['col3','col4'])\n",
    "print(info)\n",
    "info2=info.sort_index()\n",
    "print(\"\\n Sort Index :\\n\",info2)\n",
    "info3=info.sort_values(by='col3')\n",
    "print(\"\\n Sort Value :\\n\",info3)"
   ]
  },
  {
   "cell_type": "code",
   "execution_count": 13,
   "id": "5ef49fcd",
   "metadata": {},
   "outputs": [
    {
     "ename": "SyntaxError",
     "evalue": "':' expected after dictionary key (2677007989.py, line 3)",
     "output_type": "error",
     "traceback": [
      "\u001b[1;36m  Cell \u001b[1;32mIn[13], line 3\u001b[1;36m\u001b[0m\n\u001b[1;33m    right=pd.DataFrame({'Sub':['Sub1','Sub2','Sub3'],'id'=[1,2,3,4],'Name','Sub'})\u001b[0m\n\u001b[1;37m                                                        ^\u001b[0m\n\u001b[1;31mSyntaxError\u001b[0m\u001b[1;31m:\u001b[0m ':' expected after dictionary key\n"
     ]
    }
   ],
   "source": [
    "print(\"\\n DataFrame.MergeFunction :\\n\")\n",
    "left=pd.DataFrame({'id':[1,2,3,4],'Name':['Si', 'Poo','Raj','Yuvi']})\n",
    "right=pd.DataFrame({'Sub':['Sub1','Sub2','Sub3'],'id'=[1,2,3,4],'Name','Sub'})\n",
    "print(left)\n",
    "print(right)\n",
    "                                          "
   ]
  },
  {
   "cell_type": "code",
   "execution_count": null,
   "id": "65bfb514",
   "metadata": {},
   "outputs": [],
   "source": []
  }
 ],
 "metadata": {
  "kernelspec": {
   "display_name": "Python 3 (ipykernel)",
   "language": "python",
   "name": "python3"
  },
  "language_info": {
   "codemirror_mode": {
    "name": "ipython",
    "version": 3
   },
   "file_extension": ".py",
   "mimetype": "text/x-python",
   "name": "python",
   "nbconvert_exporter": "python",
   "pygments_lexer": "ipython3",
   "version": "3.10.9"
  }
 },
 "nbformat": 4,
 "nbformat_minor": 5
}
