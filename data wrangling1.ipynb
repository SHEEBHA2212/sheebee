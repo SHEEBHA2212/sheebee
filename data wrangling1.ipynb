{
 "cells": [
  {
   "cell_type": "code",
   "execution_count": 11,
   "id": "ffa4c798",
   "metadata": {
    "scrolled": true
   },
   "outputs": [
    {
     "name": "stdout",
     "output_type": "stream",
     "text": [
      "  name  age\n",
      "0  sai   20\n",
      "1  sub   21\n",
      "2  poo   22\n"
     ]
    }
   ],
   "source": [
    "import pandas as pd\n",
    "d1={\"name\":[\"sai\",\"sub\",\"poo\"],\"age\":[20,21,22]}\n",
    "d2={\"qualified\":[True,False,True]}\n",
    "df1=pd.DataFrame(d1)\n",
    "print(df1)"
   ]
  },
  {
   "cell_type": "code",
   "execution_count": 14,
   "id": "39a07e38",
   "metadata": {
    "scrolled": true
   },
   "outputs": [
    {
     "name": "stdout",
     "output_type": "stream",
     "text": [
      "{'qualified': [True, False, True]}\n",
      "  name  age  qualified\n",
      "0  sai   20       True\n",
      "1  sub   21      False\n",
      "2  poo   22       True\n"
     ]
    }
   ],
   "source": [
    "df2=pd.DataFrame(d2)\n",
    "print(d2)\n",
    "newdf=df1.join(df2)\n",
    "print(newdf)"
   ]
  },
  {
   "cell_type": "code",
   "execution_count": 18,
   "id": "71dc54ba",
   "metadata": {},
   "outputs": [
    {
     "name": "stdout",
     "output_type": "stream",
     "text": [
      "   name  age\n",
      "0   sai   20\n",
      "1   sri   21\n",
      "2  pavi   22\n"
     ]
    }
   ],
   "source": [
    "d1={\n",
    "    \"name\": [\"sai\",\"sri\",\"pavi\"], \"age\": [20,21,22]\n",
    "}\n",
    "d2={\n",
    "    \"name\": [\"yuvi\",\"rithika\",\"sanjay\"], \"age\": [20,16,17]\n",
    "}\n",
    "df1=pd.DataFrame(d1)\n",
    "\n",
    "\n",
    "print(df1)\n"
   ]
  },
  {
   "cell_type": "code",
   "execution_count": 20,
   "id": "077b2340",
   "metadata": {},
   "outputs": [
    {
     "name": "stdout",
     "output_type": "stream",
     "text": [
      "  name_x  age name_y\n",
      "0   yuvi   20    sai\n"
     ]
    }
   ],
   "source": [
    "df2=pd.DataFrame(d2)\n",
    "newdf1=df2.merge(df1,on='age')\n",
    "print(newdf1)"
   ]
  },
  {
   "cell_type": "code",
   "execution_count": 21,
   "id": "fe9feafb",
   "metadata": {},
   "outputs": [
    {
     "name": "stdout",
     "output_type": "stream",
     "text": [
      "  team  points  assists  rebounds\n",
      "0    A      90       12        56\n",
      "1    B      56       34        43\n",
      "2    C      78       23        55\n",
      "3    D      88       44        12\n",
      "   team  variable  value\n",
      "0     A    points     90\n",
      "1     B    points     56\n",
      "2     C    points     78\n",
      "3     D    points     88\n",
      "4     A   assists     12\n",
      "5     B   assists     34\n",
      "6     C   assists     23\n",
      "7     D   assists     44\n",
      "8     A  rebounds     56\n",
      "9     B  rebounds     43\n",
      "10    C  rebounds     55\n",
      "11    D  rebounds     12\n"
     ]
    }
   ],
   "source": [
    "#reshape\n",
    "df=pd.DataFrame({'team': ['A','B','C','D'], 'points': [90,56,78,88], 'assists': [12,34,23,44], 'rebounds': [56,43,55,12]})\n",
    "print(df)\n",
    "df=pd.melt(df,id_vars ='team', value_vars = ['points','assists','rebounds'])\n",
    "print(df)"
   ]
  },
  {
   "cell_type": "code",
   "execution_count": null,
   "id": "a704c1dd",
   "metadata": {},
   "outputs": [],
   "source": []
  }
 ],
 "metadata": {
  "kernelspec": {
   "display_name": "Python 3 (ipykernel)",
   "language": "python",
   "name": "python3"
  },
  "language_info": {
   "codemirror_mode": {
    "name": "ipython",
    "version": 3
   },
   "file_extension": ".py",
   "mimetype": "text/x-python",
   "name": "python",
   "nbconvert_exporter": "python",
   "pygments_lexer": "ipython3",
   "version": "3.10.9"
  }
 },
 "nbformat": 4,
 "nbformat_minor": 5
}
