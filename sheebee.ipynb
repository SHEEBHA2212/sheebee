{
 "cells": [
  {
   "cell_type": "code",
   "execution_count": 4,
   "id": "841da7f0",
   "metadata": {},
   "outputs": [
    {
     "name": "stdout",
     "output_type": "stream",
     "text": [
      "Original Data Frame: \n",
      "         Name  Age Gender  Marks\n",
      "0        Sai   20      M     98\n",
      "1    Yuvasri   18      F     65\n",
      "2  Poovannan   19      M     74\n",
      "3   Sabhasri   20      M     67\n",
      "4      Sanga   18      F     88\n",
      "5    Rithika   17      F     92\n",
      "6       Ruba   19      F     90\n"
     ]
    }
   ],
   "source": [
    "import pandas as pd\n",
    "#assign data\n",
    "data={'Name':['Sai','Yuvasri','Poovannan','Sabhasri','Sanga','Rithika','Ruba'],'Age':[20,18,19,20,18,17,19],'Gender':['M','F','M','M','F','F','F'],'Marks':[98,65,74,67,88,92,90]}\n",
    "df=pd.DataFrame(data)\n",
    "print(\"Original Data Frame: \\n\",df)"
   ]
  },
  {
   "cell_type": "code",
   "execution_count": null,
   "id": "f2202697",
   "metadata": {},
   "outputs": [],
   "source": [
    "import pandas as pd\n",
    "d1={\n",
    "    \"Name\":[\"Sai\",\"Suzie\",\"Poo\"],\"Age\":[20,21,22]\n",
    "}\n",
    "df\n"
   ]
  },
  {
   "cell_type": "code",
   "execution_count": null,
   "id": "c9adb60e",
   "metadata": {},
   "outputs": [],
   "source": []
  }
 ],
 "metadata": {
  "kernelspec": {
   "display_name": "Python 3 (ipykernel)",
   "language": "python",
   "name": "python3"
  },
  "language_info": {
   "codemirror_mode": {
    "name": "ipython",
    "version": 3
   },
   "file_extension": ".py",
   "mimetype": "text/x-python",
   "name": "python",
   "nbconvert_exporter": "python",
   "pygments_lexer": "ipython3",
   "version": "3.11.3"
  }
 },
 "nbformat": 4,
 "nbformat_minor": 5
}
